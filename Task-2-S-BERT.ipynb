{
 "cells": [
  {
   "attachments": {},
   "cell_type": "markdown",
   "metadata": {},
   "source": [
    "# [Sentence-BERT](https://arxiv.org/pdf/1908.10084.pdf)\n",
    "\n",
    "[Reference Code](https://www.pinecone.io/learn/series/nlp/train-sentence-transformers-softmax/)"
   ]
  },
  {
   "cell_type": "markdown",
   "metadata": {},
   "source": [
    "## Imported Libraries\n",
    "\n",
    "The code imports essential Python libraries for mathematical operations (`math`), regular expressions (`re`), random number generation (`random`), numerical computing (`numpy`), and deep learning with PyTorch (`torch`). Specifically, PyTorch modules for neural networks (`torch.nn`) and optimization (`torch.optim`) are imported. These imports lay the groundwork for various computational tasks, including data manipulation, model building, and optimization.\n"
   ]
  },
  {
   "cell_type": "code",
   "execution_count": 1,
   "metadata": {},
   "outputs": [
    {
     "data": {
      "text/plain": [
       "device(type='cpu')"
      ]
     },
     "execution_count": 1,
     "metadata": {},
     "output_type": "execute_result"
    }
   ],
   "source": [
    "import os\n",
    "import math\n",
    "import re\n",
    "from   random import *\n",
    "import numpy as np\n",
    "import torch\n",
    "import torch.nn as nn\n",
    "import torch.optim as optim\n",
    "import torch.nn.functional as F\n",
    "\n",
    "\n",
    "device = torch.device(\"cuda\" if torch.cuda.is_available() else \"cpu\")\n",
    "device"
   ]
  },
  {
   "attachments": {},
   "cell_type": "markdown",
   "metadata": {},
   "source": [
    "## 1. Data"
   ]
  },
  {
   "cell_type": "markdown",
   "metadata": {},
   "source": [
    "### Dataset Features Summary\n",
    "\n",
    "The provided code snippet loads two datasets using the Hugging Face `datasets` library: SNLI (Stanford Natural Language Inference) and MNLI (Multi-Genre Natural Language Inference). Here's a summary of the features for both datasets:\n",
    "\n",
    "- **SNLI Dataset Features**:\n",
    "  - The SNLI dataset is loaded using `datasets.load_dataset('snli')`.\n",
    "  - The dataset features include:\n",
    "    - `premise`: Textual premise for the sentence pair.\n",
    "    - `hypothesis`: Textual hypothesis for the sentence pair.\n",
    "    - `label`: Ground truth label indicating the relationship between the premise and hypothesis (e.g., entailment, contradiction, or neutral).\n",
    "\n",
    "- **MNLI Dataset Features**:\n",
    "  - The MNLI dataset is loaded using `datasets.load_dataset('glue', 'mnli')`.\n",
    "  - The dataset features for the 'train' split include:\n",
    "    - `premise`: Textual premise for the sentence pair.\n",
    "    - `hypothesis`: Textual hypothesis for the sentence pair.\n",
    "    - `label`: Ground truth label indicating the relationship between the premise and hypothesis, similar to SNLI.\n",
    "\n",
    "These features provide essential information about the structure of the datasets, which includes textual data for premise and hypothesis, along with corresponding labels for inference tasks.\n"
   ]
  },
  {
   "cell_type": "code",
   "execution_count": 2,
   "metadata": {},
   "outputs": [
    {
     "name": "stderr",
     "output_type": "stream",
     "text": [
      "/Users/shafisourov/anaconda3/envs/nlu/lib/python3.11/site-packages/tqdm/auto.py:21: TqdmWarning: IProgress not found. Please update jupyter and ipywidgets. See https://ipywidgets.readthedocs.io/en/stable/user_install.html\n",
      "  from .autonotebook import tqdm as notebook_tqdm\n"
     ]
    },
    {
     "data": {
      "text/plain": [
       "({'premise': Value(dtype='string', id=None),\n",
       "  'hypothesis': Value(dtype='string', id=None),\n",
       "  'label': ClassLabel(names=['entailment', 'neutral', 'contradiction'], id=None),\n",
       "  'idx': Value(dtype='int32', id=None)},\n",
       " {'premise': Value(dtype='string', id=None),\n",
       "  'hypothesis': Value(dtype='string', id=None),\n",
       "  'label': ClassLabel(names=['entailment', 'neutral', 'contradiction'], id=None)})"
      ]
     },
     "execution_count": 2,
     "metadata": {},
     "output_type": "execute_result"
    }
   ],
   "source": [
    "import datasets\n",
    "snli = datasets.load_dataset('snli')\n",
    "mnli = datasets.load_dataset('glue', 'mnli')\n",
    "mnli['train'].features, snli['train'].features"
   ]
  },
  {
   "cell_type": "code",
   "execution_count": 3,
   "metadata": {},
   "outputs": [
    {
     "data": {
      "text/plain": [
       "dict_keys(['train', 'validation_matched', 'validation_mismatched', 'test_matched', 'test_mismatched'])"
      ]
     },
     "execution_count": 3,
     "metadata": {},
     "output_type": "execute_result"
    }
   ],
   "source": [
    "# List of datasets to remove 'idx' column from\n",
    "mnli.column_names.keys()"
   ]
  },
  {
   "cell_type": "code",
   "execution_count": 4,
   "metadata": {},
   "outputs": [],
   "source": [
    "# Remove 'idx' column from each dataset\n",
    "for column_names in mnli.column_names.keys():\n",
    "    mnli[column_names] = mnli[column_names].remove_columns('idx')"
   ]
  },
  {
   "cell_type": "code",
   "execution_count": 5,
   "metadata": {},
   "outputs": [
    {
     "data": {
      "text/plain": [
       "dict_keys(['train', 'validation_matched', 'validation_mismatched', 'test_matched', 'test_mismatched'])"
      ]
     },
     "execution_count": 5,
     "metadata": {},
     "output_type": "execute_result"
    }
   ],
   "source": [
    "mnli.column_names.keys()"
   ]
  },
  {
   "cell_type": "code",
   "execution_count": 6,
   "metadata": {},
   "outputs": [
    {
     "data": {
      "text/plain": [
       "(array([0, 1, 2]), array([-1,  0,  1,  2]))"
      ]
     },
     "execution_count": 6,
     "metadata": {},
     "output_type": "execute_result"
    }
   ],
   "source": [
    "import numpy as np\n",
    "np.unique(mnli['train']['label']), np.unique(snli['train']['label'])\n",
    "#snli also have -1"
   ]
  },
  {
   "cell_type": "code",
   "execution_count": 7,
   "metadata": {},
   "outputs": [],
   "source": [
    "# there are -1 values in the label feature, these are where no class could be decided so we remove\n",
    "snli = snli.filter(\n",
    "    lambda x: 0 if x['label'] == -1 else 1\n",
    ")"
   ]
  },
  {
   "cell_type": "code",
   "execution_count": 8,
   "metadata": {},
   "outputs": [],
   "source": [
    "mnli = mnli.filter(\n",
    "    lambda x: 0 if x['label'] == -1 else 1\n",
    ")"
   ]
  },
  {
   "cell_type": "code",
   "execution_count": 9,
   "metadata": {},
   "outputs": [
    {
     "data": {
      "text/plain": [
       "(array([0, 1, 2]), array([0, 1, 2]))"
      ]
     },
     "execution_count": 9,
     "metadata": {},
     "output_type": "execute_result"
    }
   ],
   "source": [
    "import numpy as np\n",
    "np.unique(mnli['train']['label']), np.unique(snli['train']['label'])\n",
    "#snli also have -1"
   ]
  },
  {
   "cell_type": "markdown",
   "metadata": {},
   "source": [
    "## Merged Dataset Summary\n",
    "\n",
    "The provided code snippet merges two DatasetDict objects, `snli` and `mnli`, into a single DatasetDict object named `raw_dataset`. Here's a summary of the merged dataset:\n",
    "\n",
    "- **Train Dataset**:\n",
    "  - Combined train data from SNLI and MNLI.\n",
    "  - The dataset has been shuffled.\n",
    "  - Selected a subset of 85 samples for training.\n",
    "\n",
    "- **Test Dataset**:\n",
    "  - Combined test data from SNLI and MNLI mismatched test set.\n",
    "  - The dataset has been shuffled.\n",
    "  - Selected a subset of 15 samples for testing.\n",
    "\n",
    "- **Validation Dataset**:\n",
    "  - Combined validation data from SNLI and MNLI mismatched validation set.\n",
    "  - The dataset has been shuffled.\n",
    "  - Selected a subset of 15 samples for validation.\n",
    "\n",
    "This merged dataset provides a comprehensive collection of training, testing, and validation samples from both SNLI and MNLI datasets, allowing for a more diverse and robust evaluation of natural language inference models.\n"
   ]
  },
  {
   "cell_type": "code",
   "execution_count": 10,
   "metadata": {},
   "outputs": [
    {
     "data": {
      "text/plain": [
       "DatasetDict({\n",
       "    train: Dataset({\n",
       "        features: ['premise', 'hypothesis', 'label'],\n",
       "        num_rows: 85\n",
       "    })\n",
       "    test: Dataset({\n",
       "        features: ['premise', 'hypothesis', 'label'],\n",
       "        num_rows: 15\n",
       "    })\n",
       "    validation: Dataset({\n",
       "        features: ['premise', 'hypothesis', 'label'],\n",
       "        num_rows: 15\n",
       "    })\n",
       "})"
      ]
     },
     "execution_count": 10,
     "metadata": {},
     "output_type": "execute_result"
    }
   ],
   "source": [
    "# Assuming you have your two DatasetDict objects named snli and mnli\n",
    "from datasets import DatasetDict\n",
    "# Merge the two DatasetDict objects\n",
    "raw_dataset = DatasetDict({\n",
    "    'train': datasets.concatenate_datasets([snli['train'], mnli['train']]).shuffle(seed=55).select(list(range(85))),\n",
    "    'test': datasets.concatenate_datasets([snli['test'], mnli['test_mismatched']]).shuffle(seed=55).select(list(range(15))),\n",
    "    'validation': datasets.concatenate_datasets([snli['validation'], mnli['validation_mismatched']]).shuffle(seed=55).select(list(range(15)))\n",
    "})\n",
    "# Now, merged_dataset_dict contains the combined datasets from snli and mnli\n",
    "raw_dataset"
   ]
  },
  {
   "attachments": {},
   "cell_type": "markdown",
   "metadata": {},
   "source": [
    "## 2. Preprocessing"
   ]
  },
  {
   "cell_type": "markdown",
   "metadata": {},
   "source": [
    "## Tokenization and Vocabulary Loading\n",
    "\n",
    "The provided code snippet demonstrates the tokenization process using the `basic_english` tokenizer from `torchtext` and loading a vocabulary from a saved file. Here's a summary:\n",
    "\n",
    "- **Tokenizer Loading**:\n",
    "  - Utilizes the `get_tokenizer` function from `torchtext.data.utils` to load the `basic_english` tokenizer.\n",
    "  - This tokenizer is commonly used for tokenizing text data in English based on basic word boundaries.\n",
    "\n",
    "- **Vocabulary Loading**:\n",
    "  - Loads a vocabulary from a saved file named `'vocab.pth'`.\n",
    "  - The vocabulary is loaded into the variable `vocab`.\n",
    "  - The vocabulary likely contains mappings from tokens to their corresponding integer indices and vice versa, facilitating tokenization and numerical encoding of text data.\n",
    "\n",
    "These steps are crucial for preprocessing text data before feeding it into machine learning models, especially for tasks like natural language processing and understanding.\n"
   ]
  },
  {
   "cell_type": "code",
   "execution_count": 11,
   "metadata": {},
   "outputs": [],
   "source": [
    "from torchtext.data.utils import get_tokenizer\n",
    "\n",
    "# Load the 'basic_english' tokenizer\n",
    "tokenizer = get_tokenizer('basic_english')\n",
    "vocab = torch.load('./model/vocab.pt')"
   ]
  },
  {
   "cell_type": "code",
   "execution_count": 12,
   "metadata": {},
   "outputs": [
    {
     "data": {
      "text/plain": [
       "93"
      ]
     },
     "execution_count": 12,
     "metadata": {},
     "output_type": "execute_result"
    }
   ],
   "source": [
    "len(vocab)"
   ]
  },
  {
   "cell_type": "code",
   "execution_count": 13,
   "metadata": {},
   "outputs": [
    {
     "name": "stdout",
     "output_type": "stream",
     "text": [
      "Index of '[PAD]': 0\n",
      "Index of '[CLS]': 1\n",
      "Index of '[SEP]': 2\n",
      "Index of '[MASK]': 3\n",
      "Index of '[UNK]': 4\n",
      "Index of 'the': 4\n",
      "Index of 'of': 4\n",
      "Index of 'and': 4\n"
     ]
    }
   ],
   "source": [
    "tokens_to_check = ['[PAD]', '[CLS]', '[SEP]', '[MASK]', '[UNK]', 'the', 'of', 'and']\n",
    "for token in tokens_to_check:\n",
    "    print(f\"Index of '{token}': {vocab[token]}\")"
   ]
  },
  {
   "cell_type": "code",
   "execution_count": 14,
   "metadata": {},
   "outputs": [
    {
     "name": "stdout",
     "output_type": "stream",
     "text": [
      "hello world how are you doing today let's explore  regex\n"
     ]
    }
   ],
   "source": [
    "import re\n",
    "\n",
    "sent = \"Hello, world! How are you doing today? Let's explore - regex.\"\n",
    "cleaned_sent = re.sub(\"[.,!?\\\\-]\", '', sent.lower())\n",
    "\n",
    "print(cleaned_sent)\n"
   ]
  },
  {
   "cell_type": "markdown",
   "metadata": {},
   "source": [
    "### Tokenization and Padding\n",
    "\n",
    "The provided code snippet showcases tokenization and padding of sentences using a specified tokenizer and vocabulary. Here's a summary:\n",
    "\n",
    "- **Max Sequence Length**:\n",
    "  - `max_seq_length` is set to `512`, defining the maximum length for tokenized sequences.\n",
    "\n",
    "- **Tokenization and Padding Functions**:\n",
    "  - `tokenize_and_pad(sentences, tokenizer, vocab, max_length=512)`: \n",
    "    - Tokenizes the input sentences using the specified `tokenizer`, removes punctuation marks, and converts text to lowercase.\n",
    "    - Converts tokens to IDs based on the provided `vocab`.\n",
    "    - Adds special tokens (`[CLS]` and `[SEP]`) at the beginning and end of each tokenized sequence, respectively.\n",
    "    - Applies padding to ensure all sequences have the same length (`max_length`).\n",
    "    \n",
    "- **Preprocess Function** (`preprocess_function(examples)`):\n",
    "  - Tokenizes and pads both premise and hypothesis sentences using `tokenize_and_pad`.\n",
    "  - Extracts labels from the examples.\n",
    "\n",
    "- **Mapping Preprocessing Function**:\n",
    "  - Applies the `preprocess_function` to the entire dataset in a batched manner using the `map` method.\n",
    "  - Returns tokenized datasets containing processed input IDs, attention masks, and labels.\n",
    "\n",
    "- **Dataset Format**:\n",
    "  - Sets the format of the tokenized datasets to PyTorch tensors using `set_format(\"torch\")`.\n"
   ]
  },
  {
   "cell_type": "code",
   "execution_count": 15,
   "metadata": {},
   "outputs": [],
   "source": [
    "max_seq_length = 512\n",
    "\n",
    "# Example usage before your model.forward() call\n",
    "\n",
    "\n",
    "def tokenize_and_pad(sentences, tokenizer, vocab, max_length=512):\n",
    "    # Tokenizes sentences, converts tokens to IDs, adds special tokens, and applies padding\n",
    "    tokenized = [tokenizer(re.sub(\"[.,!?\\\\-]\", '', sent.lower())) for sent in sentences]\n",
    "    input_ids = [[vocab['[CLS]']] + [vocab[token] for token in tokens] + [vocab['[SEP]']] for tokens in tokenized]\n",
    "\n",
    "    attn_mask = [[1] * len(tokens) + [0] * (max_length - len(tokens)) for tokens in input_ids]\n",
    "    input_ids = [tokens + [0] * (max_length - len(tokens)) for tokens in input_ids]\n",
    "    return input_ids, attn_mask\n",
    "\n",
    "\n",
    "\n",
    "def preprocess_function(examples):\n",
    "    # Tokenize and pad both premise and hypothesis\n",
    "    premise_input_ids, premise_attn_mask = tokenize_and_pad(examples['premise'], tokenizer, vocab, max_seq_length)\n",
    "    hypothesis_input_ids, hypothesis_attn_mask = tokenize_and_pad(examples['hypothesis'], tokenizer, vocab, max_seq_length)\n",
    "    \n",
    "    # Extract labels\n",
    "    labels = examples[\"label\"]\n",
    "    \n",
    "    return {\n",
    "        \"premise_input_ids\": premise_input_ids,\n",
    "        \"premise_attention_mask\": premise_attn_mask,\n",
    "        \"hypothesis_input_ids\": hypothesis_input_ids,\n",
    "        \"hypothesis_attention_mask\": hypothesis_attn_mask,\n",
    "        \"labels\": labels\n",
    "    }\n",
    "\n",
    "# Map the preprocessing function across the dataset in a batched manner\n",
    "tokenized_datasets = raw_dataset.map(\n",
    "    preprocess_function,\n",
    "    batched=True,\n",
    ")\n",
    "\n",
    "# Remove the original columns to focus on the processed ones and set the format to PyTorch tensors\n",
    "# tokenized_datasets = tokenized_datasets.remove_columns(['premise', 'hypothesis', 'label'])\n",
    "tokenized_datasets.set_format(\"torch\")\n"
   ]
  },
  {
   "attachments": {},
   "cell_type": "markdown",
   "metadata": {},
   "source": [
    "## 3. Data loader"
   ]
  },
  {
   "cell_type": "markdown",
   "metadata": {},
   "source": [
    "## Data Loading with PyTorch DataLoader\n",
    "\n",
    "The provided code snippet demonstrates how to initialize PyTorch `DataLoader` objects for training, evaluation, and testing. Here's a summary:\n",
    "\n",
    "- **Batch Size**:\n",
    "  - `batch_size` is set to `5`, specifying the number of samples per batch.\n",
    "\n",
    "- **Train DataLoader** (`train_dataloader`):\n",
    "  - Initializes a `DataLoader` for the training dataset (`tokenized_datasets['train']`).\n",
    "  - `batch_size` is set to the specified value.\n",
    "  - `shuffle` is set to `True` to shuffle the data during training.\n",
    "\n",
    "- **Evaluation DataLoader** (`eval_dataloader`):\n",
    "  - Initializes a `DataLoader` for the validation dataset (`tokenized_datasets['validation']`).\n",
    "  - `batch_size` is set to the specified value.\n",
    "  - Data is not shuffled during evaluation.\n",
    "\n",
    "- **Test DataLoader** (`test_dataloader`):\n",
    "  - Initializes a `DataLoader` for the test dataset (`tokenized_datasets['test']`).\n",
    "  - `batch_size` is set to the specified value.\n",
    "  - Data is not shuffled during testing.\n"
   ]
  },
  {
   "cell_type": "code",
   "execution_count": 16,
   "metadata": {},
   "outputs": [],
   "source": [
    "from torch.utils.data import DataLoader\n",
    "\n",
    "# initialize the dataloader\n",
    "batch_size = 5\n",
    "train_dataloader = DataLoader(\n",
    "    tokenized_datasets['train'], \n",
    "    batch_size=batch_size, \n",
    "    shuffle=True\n",
    ")\n",
    "eval_dataloader = DataLoader(\n",
    "    tokenized_datasets['validation'], \n",
    "    batch_size=batch_size\n",
    ")\n",
    "test_dataloader = DataLoader(\n",
    "    tokenized_datasets['test'], \n",
    "    batch_size=batch_size\n",
    ")"
   ]
  },
  {
   "cell_type": "code",
   "execution_count": 17,
   "metadata": {},
   "outputs": [
    {
     "name": "stdout",
     "output_type": "stream",
     "text": [
      "torch.Size([5, 512])\n",
      "torch.Size([5, 512])\n",
      "torch.Size([5, 512])\n",
      "torch.Size([5, 512])\n",
      "torch.Size([5])\n"
     ]
    }
   ],
   "source": [
    "for batch in train_dataloader:\n",
    "    print(batch['premise_input_ids'].shape)\n",
    "    print(batch['premise_attention_mask'].shape)\n",
    "    print(batch['hypothesis_input_ids'].shape)\n",
    "    print(batch['hypothesis_attention_mask'].shape)\n",
    "    print(batch['labels'].shape)\n",
    "    break"
   ]
  },
  {
   "attachments": {},
   "cell_type": "markdown",
   "metadata": {},
   "source": [
    "## 4. Model"
   ]
  },
  {
   "cell_type": "markdown",
   "metadata": {},
   "source": [
    "### Model Loading and Summary\n",
    "\n",
    "The provided code snippet loads a pre-trained BERT model along with its hyperparameters. Here's a summary of the process:\n",
    "\n",
    "1. **Loading Pre-trained BERT Model**:\n",
    "   - A custom BERT model is initialized using the `BERT` class from the `model_class.py` module.\n",
    "   - The model's hyperparameters are loaded from the specified file (`./model/bert_best_model.pt`).\n",
    "   - The model is loaded onto the specified device (`device`).\n",
    "\n",
    "2. **Markdown Summary**:\n",
    "   - The markdown summary of the code execution is to be provided. This summary will likely include details about the loaded BERT model and its hyperparameters, as well as any other relevant information about the model loading process.\n",
    "\n",
    "Please note that the specific details of the BERT model and its hyperparameters are not provided in the code snippet and would need to be extracted from the loaded parameters and configuration.\n"
   ]
  },
  {
   "cell_type": "code",
   "execution_count": 18,
   "metadata": {},
   "outputs": [
    {
     "data": {
      "text/plain": [
       "<All keys matched successfully>"
      ]
     },
     "execution_count": 18,
     "metadata": {},
     "output_type": "execute_result"
    }
   ],
   "source": [
    "# # start from a pretrained bert-base-uncased model\n",
    "from model_class import *\n",
    "\n",
    "# load the model and all its hyperparameters\n",
    "load_path = './model/bert_best_model.pt'\n",
    "params, state = torch.load(load_path)\n",
    "model = BERT(**params, device=device).to(device)\n",
    "model.load_state_dict(state)"
   ]
  },
  {
   "cell_type": "code",
   "execution_count": 19,
   "metadata": {},
   "outputs": [
    {
     "name": "stdout",
     "output_type": "stream",
     "text": [
      "37073759\n"
     ]
    }
   ],
   "source": [
    "num_params = sum(p.numel() for p in model.parameters() if p.requires_grad)\n",
    "print(num_params)"
   ]
  },
  {
   "attachments": {},
   "cell_type": "markdown",
   "metadata": {},
   "source": [
    "### Pooling\n",
    "SBERT adds a pooling operation to the output of BERT / RoBERTa to derive a fixed sized sentence embedding"
   ]
  },
  {
   "cell_type": "markdown",
   "metadata": {},
   "source": [
    "## Mean Pooling Function Definition\n",
    "\n",
    "The provided code defines a function for mean pooling token embeddings. Here's a summary of the function:\n",
    "\n",
    "- **Function Name**: `mean_pool`\n",
    "- **Arguments**:\n",
    "  - `token_embeds`: Tensor containing token embeddings of shape `[batch_size, seq_length, embed_dim]`.\n",
    "  - `attention_mask`: Tensor containing attention mask of shape `[batch_size, seq_length]`, where padding tokens are masked with 0 and non-padding tokens are masked with 1.\n",
    "- **Functionality**:\n",
    "  - Reshapes the attention mask to cover the 768-dimensional embeddings.\n",
    "  - Performs mean-pooling across the token embeddings, excluding the padding tokens specified by the attention mask.\n",
    "  - Returns the mean-pooled representation of the token embeddings.\n",
    "\n",
    "This function can be useful for aggregating token embeddings into a single representation, often used in tasks such as sentence classification or semantic similarity.\n"
   ]
  },
  {
   "cell_type": "code",
   "execution_count": 20,
   "metadata": {},
   "outputs": [],
   "source": [
    "# define mean pooling function\n",
    "def mean_pool(token_embeds, attention_mask):\n",
    "    # reshape attention_mask to cover 768-dimension embeddings\n",
    "    in_mask = attention_mask.unsqueeze(-1).expand(\n",
    "        token_embeds.size()\n",
    "    ).float()\n",
    "    # perform mean-pooling but exclude padding tokens (specified by in_mask)\n",
    "    pool = torch.sum(token_embeds * in_mask, 1) / torch.clamp(\n",
    "        in_mask.sum(1), min=1e-9\n",
    "    )\n",
    "    return pool"
   ]
  },
  {
   "attachments": {},
   "cell_type": "markdown",
   "metadata": {},
   "source": [
    "## 5. Loss Function\n",
    "\n",
    "## Classification Objective Function \n",
    "We concatenate the sentence embeddings $u$ and $v$ with the element-wise difference  $\\lvert u - v \\rvert $ and multiply the result with the trainable weight  $ W_t ∈  \\mathbb{R}^{3n \\times k}  $:\n",
    "\n",
    "$ o = \\text{softmax}\\left(W^T \\cdot \\left(u, v, \\lvert u - v \\rvert\\right)\\right) $\n",
    "\n",
    "where $n$ is the dimension of the sentence embeddings and k the number of labels. We optimize cross-entropy loss. This structure is depicted in Figure 1.\n",
    "\n",
    "## Regression Objective Function. \n",
    "The cosine similarity between the two sentence embeddings $u$ and $v$ is computed (Figure 2). We use means quared-error loss as the objective function.\n",
    "\n",
    "(Manhatten / Euclidean distance, semantically  similar sentences can be found.)\n",
    "\n",
    "<img src=\"./figures/sbert-architecture.png\" >"
   ]
  },
  {
   "cell_type": "markdown",
   "metadata": {},
   "source": [
    "## Function Definitions: Configurations and Cosine Similarity"
   ]
  },
  {
   "cell_type": "code",
   "execution_count": 21,
   "metadata": {},
   "outputs": [],
   "source": [
    "def configurations(u,v):\n",
    "    # build the |u-v| tensor\n",
    "    uv = torch.sub(u, v)   # batch_size,hidden_dim\n",
    "    uv_abs = torch.abs(uv) # batch_size,hidden_dim\n",
    "    \n",
    "    # concatenate u, v, |u-v|\n",
    "    x = torch.cat([u, v, uv_abs], dim=-1) # batch_size, 3*hidden_dim\n",
    "    return x\n",
    "\n",
    "def cosine_similarity(u, v):\n",
    "    dot_product = np.dot(u, v)\n",
    "    norm_u = np.linalg.norm(u)\n",
    "    norm_v = np.linalg.norm(v)\n",
    "    similarity = dot_product / (norm_u * norm_v)\n",
    "    return similarity"
   ]
  },
  {
   "attachments": {},
   "cell_type": "markdown",
   "metadata": {},
   "source": [
    "<img src=\"./figures/sbert-ablation.png\" width=\"350\" height=\"300\">"
   ]
  },
  {
   "cell_type": "markdown",
   "metadata": {},
   "source": [
    "## Model Initialization and Optimizers"
   ]
  },
  {
   "cell_type": "code",
   "execution_count": 22,
   "metadata": {},
   "outputs": [],
   "source": [
    "classifier_head = torch.nn.Linear(768*3, 3).to(device)\n",
    "\n",
    "optimizer = torch.optim.Adam(model.parameters(), lr=2e-5)\n",
    "optimizer_classifier = torch.optim.Adam(classifier_head.parameters(), lr=2e-5)\n",
    "\n",
    "criterion = nn.CrossEntropyLoss()"
   ]
  },
  {
   "cell_type": "markdown",
   "metadata": {},
   "source": [
    "## Learning Rate Schedulers with Warmup"
   ]
  },
  {
   "cell_type": "code",
   "execution_count": 23,
   "metadata": {},
   "outputs": [
    {
     "name": "stderr",
     "output_type": "stream",
     "text": [
      "/Users/shafisourov/anaconda3/envs/nlu/lib/python3.11/site-packages/torch/optim/lr_scheduler.py:136: UserWarning: Detected call of `lr_scheduler.step()` before `optimizer.step()`. In PyTorch 1.1.0 and later, you should call them in the opposite order: `optimizer.step()` before `lr_scheduler.step()`.  Failure to do this will result in PyTorch skipping the first value of the learning rate schedule. See more details at https://pytorch.org/docs/stable/optim.html#how-to-adjust-learning-rate\n",
      "  warnings.warn(\"Detected call of `lr_scheduler.step()` before `optimizer.step()`. \"\n"
     ]
    }
   ],
   "source": [
    "from transformers import get_linear_schedule_with_warmup\n",
    "\n",
    "# and setup a warmup for the first ~10% steps\n",
    "total_steps = int(len(raw_dataset) / batch_size)\n",
    "warmup_steps = int(0.1 * total_steps)\n",
    "scheduler = get_linear_schedule_with_warmup(\n",
    "\t\toptimizer, num_warmup_steps=warmup_steps,\n",
    "  \tnum_training_steps=total_steps - warmup_steps\n",
    ")\n",
    "\n",
    "# then during the training loop we update the scheduler per step\n",
    "scheduler.step()\n",
    "\n",
    "scheduler_classifier = get_linear_schedule_with_warmup(\n",
    "\t\toptimizer_classifier, num_warmup_steps=warmup_steps,\n",
    "  \tnum_training_steps=total_steps - warmup_steps\n",
    ")\n",
    "\n",
    "# then during the training loop we update the scheduler per step\n",
    "scheduler_classifier.step()"
   ]
  },
  {
   "attachments": {},
   "cell_type": "markdown",
   "metadata": {},
   "source": [
    "## 6. Training"
   ]
  },
  {
   "cell_type": "markdown",
   "metadata": {},
   "source": [
    "## Training Function Overview\n",
    "\n",
    "The `train` function is designed to train a BERT-based model with a classifier head. It follows a structured approach to process the data, compute predictions, calculate losses, and update model parameters. Below is an overview of the key steps performed by the `train` function:\n",
    "\n",
    "### Data Preparation\n",
    "1. Tokenization: The input sequences are tokenized using the BERT tokenizer.\n",
    "2. Device Transfer: Tensors are moved to the active device for computation.\n",
    "\n",
    "### Model Forward Pass\n",
    "1. Token Embeddings Extraction: Token embeddings are extracted from the BERT model for both input sequences.\n",
    "2. Mean Pooling: Mean-pooled representations are computed for each sequence.\n",
    "3. Concatenation: The mean-pooled representations are concatenated with their absolute difference.\n",
    "\n",
    "### Classifier Head Operation\n",
    "1. Forward Pass: The concatenated representations are passed through the classifier head to obtain predictions.\n",
    "2. Loss Calculation: The cross-entropy loss is computed between the predicted and true labels.\n",
    "\n",
    "### Backpropagation and Optimization\n",
    "1. Gradients Calculation: Gradients with respect to the loss are computed.\n",
    "2. Parameter Update: Model parameters are updated using the optimizer.\n",
    "3. Learning Rate Adjustment: Learning rate is updated using the scheduler.\n",
    "\n",
    "Overall, the `train` function efficiently handles the training process, ensuring proper data processing, model computation, and parameter optimization.\n",
    "\n"
   ]
  },
  {
   "cell_type": "code",
   "execution_count": 24,
   "metadata": {},
   "outputs": [],
   "source": [
    "from tqdm.auto import tqdm\n",
    "\n",
    "def train(model, classifier_head, data, optimizer, optimizer_classifier, scheduler, scheduler_classifier, criterion, device):\n",
    "    epoch_loss = []\n",
    "    model.train()\n",
    "    classifier_head.train()\n",
    "\n",
    "    for step, batch in enumerate(tqdm(data, leave=True, desc='Training: ')):\n",
    "        # zero all gradients on each new step\n",
    "        optimizer.zero_grad()\n",
    "        optimizer_classifier.zero_grad()\n",
    "        \n",
    "        # prepare batches and more all to the active device\n",
    "        inputs_ids_a = batch['premise_input_ids'].to(device)\n",
    "        inputs_ids_b = batch['hypothesis_input_ids'].to(device)\n",
    "        attention_a = batch['premise_attention_mask'].to(device)\n",
    "        attention_b = batch['hypothesis_attention_mask'].to(device)\n",
    "        segment_ids = torch.zeros(batch_size, max_seq_length, dtype=torch.int32).to(device)  # each input contains only one sentence hence we define them all as sentence '0'\n",
    "        label = batch['labels'].to(device)\n",
    "        \n",
    "        # extract token embeddings from BERT at last_hidden_state\n",
    "        u_last_hidden_state = model.get_last_hidden_state(inputs_ids_a, segment_ids)  \n",
    "        v_last_hidden_state = model.get_last_hidden_state(inputs_ids_b, segment_ids)  \n",
    "\n",
    "        # u_last_hidden_state = u.last_hidden_state # all token embeddings A = batch_size, seq_len, hidden_dim\n",
    "        # v_last_hidden_state = v.last_hidden_state # all token embeddings B = batch_size, seq_len, hidden_dim\n",
    "\n",
    "         # get the mean pooled vectors\n",
    "        u_mean_pool = mean_pool(u_last_hidden_state, attention_a) # batch_size, hidden_dim\n",
    "        v_mean_pool = mean_pool(v_last_hidden_state, attention_b) # batch_size, hidden_dim\n",
    "        \n",
    "        # build the |u-v| tensor\n",
    "        uv = torch.sub(u_mean_pool, v_mean_pool)   # batch_size,hidden_dim\n",
    "        uv_abs = torch.abs(uv) # batch_size,hidden_dim\n",
    "        \n",
    "        # concatenate u, v, |u-v|\n",
    "        x = torch.cat([u_mean_pool, v_mean_pool, uv_abs], dim=-1) # batch_size, 3*hidden_dim\n",
    "        \n",
    "        # process concatenated tensor through classifier_head\n",
    "        x = classifier_head(x) #batch_size, classifer\n",
    "        \n",
    "        # calculate the 'softmax-loss' between predicted and true label\n",
    "        loss = criterion(x, label)\n",
    "        \n",
    "        # using loss, calculate gradients and then optimizerize\n",
    "        loss.backward()\n",
    "        epoch_loss.append(loss.item())\n",
    "        optimizer.step()\n",
    "        optimizer_classifier.step()\n",
    "\n",
    "        scheduler.step() # update learning rate scheduler\n",
    "        scheduler_classifier.step()\n",
    "\n",
    "    return np.mean(epoch_loss)"
   ]
  },
  {
   "cell_type": "markdown",
   "metadata": {},
   "source": [
    "## Evaluation Function Overview\n",
    "\n",
    "The `evaluate` function is responsible for evaluating the performance of a trained BERT-based model with a classifier head on a validation or test dataset. Similar to the training function, it follows a structured approach to process the data, compute predictions, calculate losses, and aggregate evaluation metrics. Below is an overview of the key steps performed by the `evaluate` function:\n",
    "\n",
    "### Data Preparation\n",
    "1. Tokenization: The input sequences are tokenized using the BERT tokenizer.\n",
    "2. Device Transfer: Tensors are moved to the active device for computation.\n",
    "\n",
    "### Model Forward Pass\n",
    "1. Token Embeddings Extraction: Token embeddings are extracted from the BERT model for both input sequences.\n",
    "2. Mean Pooling: Mean-pooled representations are computed for each sequence.\n",
    "3. Concatenation: The mean-pooled representations are concatenated with their absolute difference.\n",
    "\n",
    "### Classifier Head Operation\n",
    "1. Forward Pass: The concatenated representations are passed through the classifier head to obtain predictions.\n",
    "2. Loss Calculation: The cross-entropy loss is computed between the predicted and true labels.\n",
    "\n",
    "### Evaluation Metrics Calculation\n",
    "1. Loss Aggregation: Losses across all batches are aggregated to compute the average loss.\n",
    "\n",
    "### Model Evaluation\n",
    "1. Evaluation Output: The average loss is returned as the evaluation metric.\n",
    "\n",
    "Overall, the `evaluate` function provides a systematic approach to assess the model's performance on unseen data, facilitating model evaluation and comparison.\n"
   ]
  },
  {
   "cell_type": "code",
   "execution_count": 25,
   "metadata": {},
   "outputs": [],
   "source": [
    "def evaluate(model, classifier_head, data, criterion, device):\n",
    "    epoch_loss = []\n",
    "    model.eval()\n",
    "    classifier_head.eval()\n",
    "\n",
    "    with torch.no_grad():\n",
    "        for step, batch in enumerate(tqdm(data, leave=True, desc='Evaluate: ')):\n",
    "            \n",
    "            # prepare batches and more all to the active device\n",
    "            inputs_ids_a = batch['premise_input_ids'].to(device)\n",
    "            inputs_ids_b = batch['hypothesis_input_ids'].to(device)\n",
    "            attention_a = batch['premise_attention_mask'].to(device)\n",
    "            attention_b = batch['hypothesis_attention_mask'].to(device)\n",
    "            segment_ids = torch.zeros(batch_size, max_seq_length, dtype=torch.int32).to(device)  # each input contains only one sentence hence we define them all as sentence '0'\n",
    "            label = batch['labels'].to(device)\n",
    "            \n",
    "            # extract token embeddings from BERT at last_hidden_state\n",
    "            u_last_hidden_state = model.get_last_hidden_state(inputs_ids_a, segment_ids)  \n",
    "            v_last_hidden_state = model.get_last_hidden_state(inputs_ids_b, segment_ids)  \n",
    "\n",
    "            # u_last_hidden_state = u.last_hidden_state # all token embeddings A = batch_size, seq_len, hidden_dim\n",
    "            # v_last_hidden_state = v.last_hidden_state # all token embeddings B = batch_size, seq_len, hidden_dim\n",
    "\n",
    "            # get the mean pooled vectors\n",
    "            u_mean_pool = mean_pool(u_last_hidden_state, attention_a) # batch_size, hidden_dim\n",
    "            v_mean_pool = mean_pool(v_last_hidden_state, attention_b) # batch_size, hidden_dim\n",
    "            \n",
    "            # build the |u-v| tensor\n",
    "            uv = torch.sub(u_mean_pool, v_mean_pool)   # batch_size,hidden_dim\n",
    "            uv_abs = torch.abs(uv) # batch_size,hidden_dim\n",
    "            \n",
    "            # concatenate u, v, |u-v|\n",
    "            x = torch.cat([u_mean_pool, v_mean_pool, uv_abs], dim=-1) # batch_size, 3*hidden_dim\n",
    "            \n",
    "            # process concatenated tensor through classifier_head\n",
    "            x = classifier_head(x) #batch_size, classifer\n",
    "            \n",
    "            # calculate the 'softmax-loss' between predicted and true label\n",
    "            loss = criterion(x, label)\n",
    "            epoch_loss.append(loss.item())\n",
    "\n",
    "    return np.mean(epoch_loss)"
   ]
  },
  {
   "cell_type": "code",
   "execution_count": 26,
   "metadata": {},
   "outputs": [],
   "source": [
    "import time\n",
    "def epoch_time(start_time, end_time):\n",
    "    elapsed_time = end_time - start_time\n",
    "    elapsed_mins = int(elapsed_time / 60)\n",
    "    elapsed_secs = int(elapsed_time - (elapsed_mins * 60))\n",
    "    return elapsed_mins, elapsed_secs"
   ]
  },
  {
   "cell_type": "code",
   "execution_count": 27,
   "metadata": {},
   "outputs": [],
   "source": [
    "head_path = './model/best_s_bert_classifier_head.pt'\n",
    "model_path = './model/best_s_bert.pt'"
   ]
  },
  {
   "cell_type": "markdown",
   "metadata": {},
   "source": [
    "## Training and Evaluation Process\n",
    "\n",
    "This markdown cell outlines the training and evaluation process for the BERT model with the added classifier head.\n",
    "\n",
    "### Training Loop\n",
    "- The training loop iterates over the specified number of epochs.\n",
    "- For each epoch:\n",
    "  - The model is trained on the training dataset using the `train` function, which computes the loss, calculates gradients, and updates the model parameters.\n",
    "  - The model is then evaluated on the validation dataset using the `evaluate` function to monitor its performance.\n",
    "  - Training and validation losses are recorded for visualization.\n",
    "  - If the validation loss improves compared to the best validation loss so far, both the classifier head and the model's parameters are saved.\n",
    "\n",
    "### Evaluation\n",
    "- The `evaluate` function evaluates the model's performance on the validation dataset by computing the loss without updating the model parameters.\n",
    "- The loss is calculated using the specified criterion (in this case, CrossEntropyLoss).\n",
    "- This process allows us to monitor the model's performance on unseen data and prevent overfitting.\n",
    "\n",
    "### Results\n",
    "- After training, the model's performance can be assessed using the test dataset.\n",
    "- The best model (with the lowest validation loss) can be loaded and evaluated on the test set to obtain the final performance metrics.\n",
    "\n",
    "By following this process, we ensure that the model learns from the training data while generalizing well to unseen data, leading to better overall performance.\n"
   ]
  },
  {
   "cell_type": "code",
   "execution_count": 60,
   "metadata": {},
   "outputs": [
    {
     "name": "stderr",
     "output_type": "stream",
     "text": [
      "Training: 100%|██████████| 17/17 [05:42<00:00, 20.14s/it]\n",
      "Evaluate: 100%|██████████| 3/3 [00:15<00:00,  5.04s/it]\n"
     ]
    },
    {
     "name": "stdout",
     "output_type": "stream",
     "text": [
      "Epoch: 01 | Time: 5m 57s\n",
      "\tTrain Loss: 1.169\n",
      "\t Val. Loss: 1.032\n"
     ]
    },
    {
     "name": "stderr",
     "output_type": "stream",
     "text": [
      "Training: 100%|██████████| 17/17 [05:19<00:00, 18.81s/it]\n",
      "Evaluate: 100%|██████████| 3/3 [00:15<00:00,  5.15s/it]\n"
     ]
    },
    {
     "name": "stdout",
     "output_type": "stream",
     "text": [
      "Epoch: 02 | Time: 5m 35s\n",
      "\tTrain Loss: 1.164\n",
      "\t Val. Loss: 1.036\n"
     ]
    },
    {
     "name": "stderr",
     "output_type": "stream",
     "text": [
      "Training: 100%|██████████| 17/17 [05:04<00:00, 17.93s/it]\n",
      "Evaluate: 100%|██████████| 3/3 [00:21<00:00,  7.15s/it]\n"
     ]
    },
    {
     "name": "stdout",
     "output_type": "stream",
     "text": [
      "Epoch: 03 | Time: 5m 26s\n",
      "\tTrain Loss: 1.161\n",
      "\t Val. Loss: 1.035\n"
     ]
    },
    {
     "name": "stderr",
     "output_type": "stream",
     "text": [
      "Training: 100%|██████████| 17/17 [05:23<00:00, 19.02s/it]\n",
      "Evaluate: 100%|██████████| 3/3 [00:14<00:00,  4.80s/it]\n"
     ]
    },
    {
     "name": "stdout",
     "output_type": "stream",
     "text": [
      "Epoch: 04 | Time: 5m 37s\n",
      "\tTrain Loss: 1.161\n",
      "\t Val. Loss: 1.039\n"
     ]
    },
    {
     "name": "stderr",
     "output_type": "stream",
     "text": [
      "Training: 100%|██████████| 17/17 [05:23<00:00, 19.01s/it]\n",
      "Evaluate: 100%|██████████| 3/3 [00:16<00:00,  5.60s/it]\n"
     ]
    },
    {
     "name": "stdout",
     "output_type": "stream",
     "text": [
      "Epoch: 05 | Time: 5m 39s\n",
      "\tTrain Loss: 1.167\n",
      "\t Val. Loss: 1.042\n"
     ]
    },
    {
     "name": "stderr",
     "output_type": "stream",
     "text": [
      "Training: 100%|██████████| 17/17 [05:58<00:00, 21.08s/it]\n",
      "Evaluate: 100%|██████████| 3/3 [00:13<00:00,  4.62s/it]\n"
     ]
    },
    {
     "name": "stdout",
     "output_type": "stream",
     "text": [
      "Epoch: 06 | Time: 6m 12s\n",
      "\tTrain Loss: 1.168\n",
      "\t Val. Loss: 1.041\n"
     ]
    },
    {
     "name": "stderr",
     "output_type": "stream",
     "text": [
      "Training: 100%|██████████| 17/17 [04:28<00:00, 15.77s/it]\n",
      "Evaluate: 100%|██████████| 3/3 [00:14<00:00,  4.74s/it]\n"
     ]
    },
    {
     "name": "stdout",
     "output_type": "stream",
     "text": [
      "Epoch: 07 | Time: 4m 42s\n",
      "\tTrain Loss: 1.171\n",
      "\t Val. Loss: 1.035\n"
     ]
    },
    {
     "name": "stderr",
     "output_type": "stream",
     "text": [
      "Training: 100%|██████████| 17/17 [04:30<00:00, 15.90s/it]\n",
      "Evaluate: 100%|██████████| 3/3 [00:14<00:00,  4.78s/it]\n"
     ]
    },
    {
     "name": "stdout",
     "output_type": "stream",
     "text": [
      "Epoch: 08 | Time: 4m 44s\n",
      "\tTrain Loss: 1.174\n",
      "\t Val. Loss: 1.038\n"
     ]
    },
    {
     "name": "stderr",
     "output_type": "stream",
     "text": [
      "Training: 100%|██████████| 17/17 [04:17<00:00, 15.17s/it]\n",
      "Evaluate: 100%|██████████| 3/3 [00:14<00:00,  4.72s/it]\n"
     ]
    },
    {
     "name": "stdout",
     "output_type": "stream",
     "text": [
      "Epoch: 09 | Time: 4m 32s\n",
      "\tTrain Loss: 1.159\n",
      "\t Val. Loss: 1.049\n"
     ]
    },
    {
     "name": "stderr",
     "output_type": "stream",
     "text": [
      "Training: 100%|██████████| 17/17 [04:18<00:00, 15.23s/it]\n",
      "Evaluate: 100%|██████████| 3/3 [00:13<00:00,  4.55s/it]"
     ]
    },
    {
     "name": "stdout",
     "output_type": "stream",
     "text": [
      "Epoch: 10 | Time: 4m 32s\n",
      "\tTrain Loss: 1.161\n",
      "\t Val. Loss: 1.051\n"
     ]
    },
    {
     "name": "stderr",
     "output_type": "stream",
     "text": [
      "\n"
     ]
    }
   ],
   "source": [
    "num_epoch = 10\n",
    "\n",
    "best_val_loss = float('inf')\n",
    "train_losses = []\n",
    "val_losses = []\n",
    "\n",
    "# 1 epoch should be enough, increase if wanted\n",
    "for epoch in range(num_epoch):\n",
    "    start_time = time.time()\n",
    "    train_loss = train(model, classifier_head, train_dataloader, optimizer, optimizer_classifier, scheduler, scheduler_classifier, criterion, device)\n",
    "    val_loss = evaluate(model, classifier_head, eval_dataloader, criterion, device)\n",
    "\n",
    "    #for plotting\n",
    "    train_losses.append(train_loss)\n",
    "    val_losses.append(val_loss)\n",
    "\n",
    "    end_time = time.time()\n",
    "\n",
    "    epoch_mins, epoch_secs = epoch_time(start_time, end_time)\n",
    "\n",
    "    # save the model only when its validation loss is lower than all its predecessors\n",
    "    if val_loss < best_val_loss:\n",
    "        best_val_loss = val_loss\n",
    "        torch.save(classifier_head, head_path)  # save the classifier head\n",
    "        torch.save([model.params, model.state_dict()], model_path)  # save the model's parameters and state to a file\n",
    "        \n",
    "    print(f'Epoch: {epoch+1:02} | Time: {epoch_mins}m {epoch_secs}s')\n",
    "    print(f'\\tTrain Loss: {train_loss:.3f}')\n",
    "    print(f'\\t Val. Loss: {val_loss:.3f}')"
   ]
  },
  {
   "cell_type": "code",
   "execution_count": 33,
   "metadata": {},
   "outputs": [
    {
     "name": "stdout",
     "output_type": "stream",
     "text": [
      "Average Training Loss for Sentence BERT Model: 1.1655\n"
     ]
    }
   ],
   "source": [
    "# Calculate the average training loss\n",
    "average_train_loss_sentence_bert = sum(train_losses) / len(train_losses)\n",
    "\n",
    "# Display the average training loss\n",
    "print(\"Average Training Loss for Sentence BERT Model:\", average_train_loss_sentence_bert)"
   ]
  },
  {
   "cell_type": "code",
   "execution_count": 34,
   "metadata": {},
   "outputs": [
    {
     "name": "stdout",
     "output_type": "stream",
     "text": [
      "Average Validation Loss for Sentence BERT Model: 1.0398\n"
     ]
    }
   ],
   "source": [
    "# Calculate the average validation loss\n",
    "average_val_loss_sentence_bert = sum(val_losses) / len(val_losses)\n",
    "\n",
    "# Display the average validation loss\n",
    "print(\"Average Validation Loss for Sentence BERT Model:\", average_val_loss_sentence_bert)"
   ]
  },
  {
   "cell_type": "code",
   "execution_count": 36,
   "metadata": {},
   "outputs": [
    {
     "name": "stderr",
     "output_type": "stream",
     "text": [
      "Evaluate: 100%|██████████| 3/3 [00:17<00:00,  5.93s/it]"
     ]
    },
    {
     "name": "stdout",
     "output_type": "stream",
     "text": [
      "Average Test Loss: 1.1250\n"
     ]
    },
    {
     "name": "stderr",
     "output_type": "stream",
     "text": [
      "\n"
     ]
    }
   ],
   "source": [
    "def calculate_average_test_loss(model, classifier_head, test_dataloader, criterion, device):\n",
    "    \"\"\"\n",
    "    Calculate the average test loss for the Sentence-BERT model.\n",
    "\n",
    "    Args:\n",
    "    - model (torch.nn.Module): The Sentence-BERT model.\n",
    "    - classifier_head (torch.nn.Module): The classifier head added on top of the Sentence-BERT model.\n",
    "    - test_dataloader (torch.utils.data.DataLoader): DataLoader for test data.\n",
    "    - criterion (torch.nn.Module): Loss function.\n",
    "    - device (str): Device to run the evaluation on ('cuda' or 'cpu').\n",
    "\n",
    "    Returns:\n",
    "    - float: The average test loss.\n",
    "    \"\"\"\n",
    "    # Evaluate the model on the test dataset\n",
    "    average_test_loss = evaluate(model, classifier_head, test_dataloader, criterion, device)\n",
    "    \n",
    "    return average_test_loss\n",
    "\n",
    "# Use the function to calculate the average test loss\n",
    "average_test_loss = calculate_average_test_loss(model, classifier_head, test_dataloader, criterion, device)\n",
    "\n",
    "print(f\"Average Test Loss: {average_test_loss:.4f}\")\n"
   ]
  },
  {
   "cell_type": "code",
   "execution_count": 37,
   "metadata": {},
   "outputs": [
    {
     "name": "stdout",
     "output_type": "stream",
     "text": [
      "Precision: 0.1111, Recall: 0.3333, F1 Score: 0.1667\n"
     ]
    },
    {
     "name": "stderr",
     "output_type": "stream",
     "text": [
      "/Users/shafisourov/anaconda3/envs/nlu/lib/python3.11/site-packages/sklearn/metrics/_classification.py:1497: UndefinedMetricWarning: Precision is ill-defined and being set to 0.0 in labels with no predicted samples. Use `zero_division` parameter to control this behavior.\n",
      "  _warn_prf(average, modifier, f\"{metric.capitalize()} is\", len(result))\n"
     ]
    }
   ],
   "source": [
    "from sklearn.metrics import precision_recall_fscore_support\n",
    "import torch\n",
    "\n",
    "def evaluate_and_predict(model, classifier_head, data_loader, device):\n",
    "    model.eval()\n",
    "    classifier_head.eval()\n",
    "    predictions = []\n",
    "    true_labels = []\n",
    "\n",
    "    with torch.no_grad():\n",
    "        for batch in data_loader:\n",
    "            inputs_ids_a = batch['premise_input_ids'].to(device)\n",
    "            inputs_ids_b = batch['hypothesis_input_ids'].to(device)\n",
    "            attention_a = batch['premise_attention_mask'].to(device)\n",
    "            attention_b = batch['hypothesis_attention_mask'].to(device)\n",
    "            segment_ids = torch.zeros(batch['labels'].size(0), max_seq_length, dtype=torch.int32).to(device)\n",
    "            labels = batch['labels'].to(device)\n",
    "\n",
    "            u_last_hidden_state = model.get_last_hidden_state(inputs_ids_a, segment_ids)  \n",
    "            v_last_hidden_state = model.get_last_hidden_state(inputs_ids_b, segment_ids)\n",
    "\n",
    "            u_mean_pool = mean_pool(u_last_hidden_state, attention_a)\n",
    "            v_mean_pool = mean_pool(v_last_hidden_state, attention_b)\n",
    "\n",
    "            concatenated_features = torch.cat([u_mean_pool, v_mean_pool, torch.abs(u_mean_pool - v_mean_pool)], dim=-1)\n",
    "            logits = classifier_head(concatenated_features)\n",
    "            predictions.extend(torch.argmax(logits, dim=1).cpu().numpy())\n",
    "            true_labels.extend(labels.cpu().numpy())\n",
    "\n",
    "    # Calculate Precision, Recall, and F1 Score\n",
    "    precision, recall, f1, _ = precision_recall_fscore_support(true_labels, predictions, average='weighted')\n",
    "\n",
    "    return precision, recall, f1\n",
    "\n",
    "# Calculate metrics\n",
    "precision, recall, f1 = evaluate_and_predict(model, classifier_head, test_dataloader, device)\n",
    "\n",
    "print(f\"Precision: {precision:.4f}, Recall: {recall:.4f}, F1 Score: {f1:.4f}\")\n"
   ]
  },
  {
   "cell_type": "markdown",
   "metadata": {},
   "source": [
    "### Training Progress Visualization\n",
    "\n",
    "The plot above shows the training and validation losses across updates during the training process."
   ]
  },
  {
   "cell_type": "code",
   "execution_count": 61,
   "metadata": {},
   "outputs": [
    {
     "data": {
      "text/plain": [
       "Text(0, 0.5, 'loss')"
      ]
     },
     "execution_count": 61,
     "metadata": {},
     "output_type": "execute_result"
    },
    {
     "data": {
      "image/png": "[encoded data removed]",
      "text/plain": [
       "<Figure size 500x300 with 1 Axes>"
      ]
     },
     "metadata": {},
     "output_type": "display_data"
    }
   ],
   "source": [
    "import matplotlib.pyplot as plt\n",
    "fig = plt.figure(figsize=(5, 3))\n",
    "ax = fig.add_subplot(1, 1, 1)\n",
    "ax.plot(train_losses, label = 'train loss')\n",
    "ax.plot(val_losses, label = 'validation loss')\n",
    "plt.legend()\n",
    "ax.set_xlabel('updates')\n",
    "ax.set_ylabel('loss')"
   ]
  },
  {
   "attachments": {},
   "cell_type": "markdown",
   "metadata": {},
   "source": [
    "## 7. Inference"
   ]
  },
  {
   "cell_type": "markdown",
   "metadata": {},
   "source": [
    "### Preprocessing Function for Single Sentence Input\n",
    "\n",
    "This function `process_text` is used to preprocess a single sentence for input to a BERT-based model.\n",
    "\n",
    "### Input\n",
    "- `sentence`: The input sentence to be processed.\n",
    "- `tokenizer`: The tokenizer used to tokenize the sentence.\n",
    "- `vocab`: The vocabulary containing token-to-index mappings.\n",
    "- `max_seq_length`: The maximum sequence length expected by the model.\n",
    "\n",
    "### Output\n",
    "- A dictionary containing the preprocessed input:\n",
    "  - `input_ids`: Tensor containing token IDs of the input sentence.\n",
    "  - `attention_mask`: Tensor containing attention mask indicating which tokens are real and which are padding.\n",
    "\n",
    "### Functionality\n",
    "- Tokenizes the input sentence using the provided tokenizer.\n",
    "- Converts tokens to token IDs using the provided vocabulary.\n",
    "- Adds special tokens `[CLS]` and `[SEP]` to mark the beginning and end of the sentence.\n",
    "- Adds padding tokens `[PAD]` to ensure the sequence length matches `max_seq_length`.\n",
    "- Constructs an attention mask to distinguish real tokens from padding tokens.\n"
   ]
  },
  {
   "cell_type": "code",
   "execution_count": 42,
   "metadata": {},
   "outputs": [],
   "source": [
    "def process_text(sentence, tokenizer, vocab, max_seq_length):\n",
    "    tokens = tokenizer(re.sub(\"[.,!?\\\\-]\", '', sentence.lower()))\n",
    "    input_ids = [vocab['[CLS]']] + [vocab[token] for token in tokens] + [vocab['[SEP]']]\n",
    "    n_pad = max_seq_length - len(input_ids)\n",
    "    attention_mask = ([1] * len(input_ids)) + ([0] * n_pad)\n",
    "    input_ids = input_ids + ([0] * n_pad)\n",
    "\n",
    "    return {'input_ids': torch.LongTensor(input_ids).reshape(1, -1),\n",
    "            'attention_mask': torch.LongTensor(attention_mask).reshape(1, -1)}"
   ]
  },
  {
   "cell_type": "markdown",
   "metadata": {},
   "source": [
    "### Sentence Similarity Calculation Function\n",
    "\n",
    "This function `calculate_similarity` is used to calculate the cosine similarity between two input sentences using a pretrained BERT-based model.\n",
    "\n",
    "### Inputs\n",
    "- `model`: The pretrained BERT-based model used for encoding sentences.\n",
    "- `tokenizer`: The tokenizer used to tokenize the sentences.\n",
    "- `vocab`: The vocabulary containing token-to-index mappings.\n",
    "- `sentence_a`: The first input sentence.\n",
    "- `sentence_b`: The second input sentence.\n",
    "- `device`: The device (CPU or GPU) where the model will be executed.\n",
    "\n",
    "### Output\n",
    "- The cosine similarity score between the two input sentences.\n",
    "\n",
    "### Functionality\n",
    "- Tokenizes and converts the input sentences into input IDs and attention masks compatible with the BERT model.\n",
    "- Extracts token embeddings for both sentences from the BERT model.\n",
    "- Calculates the mean-pooled vectors for both sentences.\n",
    "- Computes the cosine similarity between the mean-pooled vectors.\n",
    "\n"
   ]
  },
  {
   "cell_type": "code",
   "execution_count": 43,
   "metadata": {},
   "outputs": [],
   "source": [
    "import torch\n",
    "from sklearn.metrics.pairwise import cosine_similarity\n",
    "\n",
    "def calculate_similarity(model, tokenizer, vocab, sentence_a, sentence_b, device):\n",
    "    # Tokenize and convert sentences to input IDs and attention masks\n",
    "    inputs_a = process_text(sentence_a, tokenizer, vocab, max_seq_length)\n",
    "    inputs_b = process_text(sentence_b, tokenizer, vocab, max_seq_length)\n",
    "    \n",
    "\n",
    "    # Move input IDs and attention masks to the active device\n",
    "    inputs_ids_a = inputs_a['input_ids'].to(device)\n",
    "    attention_a = inputs_a['attention_mask'].to(device)\n",
    "    inputs_ids_b = inputs_b['input_ids'].to(device)\n",
    "    attention_b = inputs_b['attention_mask'].to(device)\n",
    "    segment_ids = torch.zeros(1, max_seq_length, dtype=torch.int32).to(device)\n",
    "\n",
    "    # Extract token embeddings from BERT\n",
    "    u = model.get_last_hidden_state(inputs_ids_a, segment_ids)  # all token embeddings A = batch_size, seq_len, hidden_dim\n",
    "    v = model.get_last_hidden_state(inputs_ids_b, segment_ids)  # all token embeddings B = batch_size, seq_len, hidden_dim\n",
    "\n",
    "    # u = model(inputs_ids_a, attention_mask=attention_a)[0]  # all token embeddings A = batch_size, seq_len, hidden_dim\n",
    "    # v = model(inputs_ids_b, attention_mask=attention_b)[0]  # all token embeddings B = batch_size, seq_len, hidden_dim\n",
    "\n",
    "    # Get the mean-pooled vectors\n",
    "    u = mean_pool(u, attention_a).detach().cpu().numpy().reshape(-1)  # batch_size, hidden_dim\n",
    "    v = mean_pool(v, attention_b).detach().cpu().numpy().reshape(-1)  # batch_size, hidden_dim\n",
    "\n",
    "    # Calculate cosine similarity\n",
    "    similarity_score = cosine_similarity(u.reshape(1, -1), v.reshape(1, -1))[0, 0]\n",
    "\n",
    "    return similarity_score"
   ]
  },
  {
   "cell_type": "code",
   "execution_count": 44,
   "metadata": {},
   "outputs": [
    {
     "name": "stdout",
     "output_type": "stream",
     "text": [
      "Cosine Similarity: 0.9240\n"
     ]
    }
   ],
   "source": [
    "\n",
    "sentence_a = 'Your contribution helped make it possible for us to provide our students with a quality education.'\n",
    "sentence_b = \"Your contributions were of no help with our students' education.\"\n",
    "similarity = calculate_similarity(model, tokenizer, vocab, sentence_a, sentence_b, device)\n",
    "print(f\"Cosine Similarity: {similarity:.4f}\")"
   ]
  },
  {
   "cell_type": "code",
   "execution_count": 31,
   "metadata": {},
   "outputs": [
    {
     "name": "stderr",
     "output_type": "stream",
     "text": [
      "Calculating Similarity:   0%|          | 0/3 [00:00<?, ?it/s]"
     ]
    },
    {
     "name": "stderr",
     "output_type": "stream",
     "text": [
      "                                                                     \r"
     ]
    },
    {
     "data": {
      "text/plain": [
       "0.929920494556427"
      ]
     },
     "execution_count": 31,
     "metadata": {},
     "output_type": "execute_result"
    }
   ],
   "source": [
    "from torch.utils.data import DataLoader\n",
    "from tqdm.auto import tqdm\n",
    "import numpy as np\n",
    "max_len = max_seq_length\n",
    "def cosine_similarity(u, v):\n",
    "    \"\"\"\n",
    "    Compute the cosine similarity between two tensors.\n",
    "    \"\"\"\n",
    "    dot_product = (u * v).sum()\n",
    "    norm_u = u.norm(2)\n",
    "    norm_v = v.norm(2)\n",
    "    similarity = dot_product / (norm_u * norm_v)\n",
    "    return similarity.item()\n",
    "\n",
    "def calculate_average_cosine_similarity(model, data_loader, device):\n",
    "    \"\"\"\n",
    "    Calculate the average cosine similarity between the sentence embeddings\n",
    "    of pairs in the dataset.\n",
    "    \"\"\"\n",
    "    model.eval()\n",
    "    similarities = []\n",
    "    with torch.no_grad():\n",
    "        for batch in tqdm(data_loader, desc='Calculating Similarity', leave=False):\n",
    "            inputs_ids_a = batch['premise_input_ids'].to(device)\n",
    "            inputs_ids_b = batch['hypothesis_input_ids'].to(device)\n",
    "            attention_a = batch['premise_attention_mask'].to(device)\n",
    "            attention_b = batch['hypothesis_attention_mask'].to(device)\n",
    "            segment_ids = torch.zeros(inputs_ids_a.size(0), max_len, dtype=torch.int32).to(device)\n",
    "\n",
    "            u_last_hidden_state = model.get_last_hidden_state(inputs_ids_a, segment_ids)\n",
    "            v_last_hidden_state = model.get_last_hidden_state(inputs_ids_b, segment_ids)\n",
    "\n",
    "            u_mean_pool = mean_pool(u_last_hidden_state, attention_a)\n",
    "            v_mean_pool = mean_pool(v_last_hidden_state, attention_b)\n",
    "\n",
    "            similarity = cosine_similarity(u_mean_pool, v_mean_pool)\n",
    "            similarities.append(similarity)\n",
    "\n",
    "    average_similarity = np.mean(similarities)\n",
    "    return average_similarity\n",
    "\n",
    "# Assuming test_dataloader is already defined and contains the test dataset\n",
    "# device is defined as per the previous context\n",
    "average_similarity = calculate_average_cosine_similarity(model, test_dataloader, device)\n",
    "average_similarity"
   ]
  }
 ],
 "metadata": {
  "kernelspec": {
   "display_name": "Python 3 (ipykernel)",
   "language": "python",
   "name": "python3"
  },
  "language_info": {
   "codemirror_mode": {
    "name": "ipython",
    "version": 3
   },
   "file_extension": ".py",
   "mimetype": "text/x-python",
   "name": "python",
   "nbconvert_exporter": "python",
   "pygments_lexer": "ipython3",
   "version": "3.11.4"
  }
 },
 "nbformat": 4,
 "nbformat_minor": 4
}
